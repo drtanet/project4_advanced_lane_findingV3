{
 "cells": [
  {
   "cell_type": "markdown",
   "metadata": {},
   "source": [
    "**Advanced Lane Finding Project**\n",
    "\n",
    "The goals / steps of this project are the following:\n",
    "\n",
    "* Compute the camera calibration matrix and distortion coefficients given a set of chessboard images.\n",
    "* Apply a distortion correction to raw images.\n",
    "* Use color transforms, gradients, etc., to create a thresholded binary image.\n",
    "* Apply a perspective transform to rectify binary image (\"birds-eye view\").\n",
    "* Detect lane pixels and fit to find the lane boundary.\n",
    "* Determine the curvature of the lane and vehicle position with respect to center.\n",
    "* Warp the detected lane boundaries back onto the original image.\n",
    "* Output visual display of the lane boundaries and numerical estimation of lane curvature and vehicle position.\n"
   ]
  },
  {
   "cell_type": "markdown",
   "metadata": {},
   "source": [
    "[//]: # (Image References)\n",
    "\n",
    "[image1]: ./examples/undistort_output.png \"Undistorted\"\n",
    "[image2]: ./test_images/test1.jpg \"Road Transformed\"\n",
    "[image3]: ./examples/binary_combo_example.jpg \"Binary Example\"\n",
    "[image4]: ./examples/warped_straight_lines.jpg \"Warp Example\"\n",
    "[image5]: ./examples/color_fit_lines.jpg \"Fit Visual\"\n",
    "[image6]: ./examples/example_output.jpg \"Output\"\n",
    "[video1]: ./project_video.mp4 \"Video\""
   ]
  },
  {
   "cell_type": "markdown",
   "metadata": {},
   "source": [
    "### Camera Calibration\n",
    "\n",
    "#### 1. Briefly state how you computed the camera matrix and distortion coefficients. Provide an example of a distortion corrected calibration image.\n",
    "\n",
    "The code for this step is contained in the first code cell of the IPython notebook located in \"project4_code.ipynb\"\n",
    "\n",
    "I start by preparing \"object points\", which will be the (x, y, z) coordinates of the chessboard corners in the world (3D). Here I am assuming the chessboard is fixed on the (x, y) plane at z=0, such that the object points are the same for each calibration image (2D).  Thus, `objp` is just a replicated array of coordinates, and `objpoints` will be appended with a copy of it every time I successfully detect all chessboard corners in a test image.  `imgpoints` will be appended with the (x, y) pixel position of each of the corners in the image plane with each successful chessboard detection.  \n",
    "\n",
    "I then used the output `objpoints` and `imgpoints` to compute the camera calibration and distortion coefficients using the `cv2.calibrateCamera()` function.  I applied this distortion correction to the test image using the `cv2.undistort()` function and obtained this result: \n",
    "\n",
    "Note that I have to thank my mentor (Nahuel) who gave me this link: \n",
    "\n",
    "<https://docs.opencv.org/3.0-beta/doc/py_tutorials/py_calib3d/py_calibration/py_calibration.html>\n",
    "\n",
    "because in the lecture mtx was used as the inputs twice in cv2.undistort(). It did not work at first. \n",
    "\n",
    "I show for two cases: \n",
    "\n",
    "# cameraimage2\n",
    "\n",
    "<img src=\"output_images/calibration2undistorted.png\">\n",
    "\n",
    "\n",
    "\n",
    "# cameraimage5 \n",
    "\n",
    "\n",
    "<img src=\"output_images/calibration5undistorted.png\">\n",
    "\n",
    "\n",
    "\n",
    "\n"
   ]
  },
  {
   "cell_type": "markdown",
   "metadata": {
    "collapsed": true
   },
   "source": [
    "### Pipeline (single images)\n",
    "\n",
    "#### 1. Provide an example of a distortion-corrected image.\n",
    "\n",
    "To demonstrate this step, I will describe how I apply the distortion correction to one of the test images like this one\n",
    "\n",
    "\n",
    "<img src=\"output_images/test1_undistorted.png\">   \n",
    "\n",
    "\n",
    "\n",
    "#### 2. Describe how (and identify where in your code) you used color transforms, gradients or other methods to create a thresholded binary image.  Provide an example of a binary image result.\n",
    "\n",
    "\n",
    "\n",
    "I used a combination of color and gradient thresholds to generate a binary image (`project4_code.ipynb`).  Here's an example of my output for this step. \n",
    "\n",
    "Using abs_sobel_thresh(), I obtained: (in cell 10)\n",
    "\n",
    "<img src=\"output_images/binary_output.png\">\n",
    "\n",
    "Using mag_thresh(), I obtained: (in cell 11)\n",
    "\n",
    "<img src=\"output_images/binary_output_mag.png\">\n",
    "\n",
    "Using  dir_threshold(), I obtained: (in cell 12)\n",
    "\n",
    "<img src=\"output_images/binary_output_dir.png\">\n",
    "\n",
    "Using combination of all techniques above, I obtained: (in cell 13)\n",
    "\n",
    "<img src=\"output_images/binary_output_final.png\">\n",
    "\n",
    "\n",
    "Using hls_select(), I obtained: (in cell 14) \n",
    "\n",
    "\n",
    "<img src=\"output_images/binary_output_s_channel.png\"> \n",
    "\n",
    "\n",
    "I #combined color (s channel) and gradient thresholds: (in cell 15) \n",
    "\n",
    "\n",
    "<img src=\"output_images/binary_output_combined.png\"> \n",
    "\n",
    "\n",
    "\n",
    "#### 3. Describe how (and identify where in your code) you performed a perspective transform and provide an example of a transformed image.\n",
    "\n",
    "The code for my perspective transform includes a function called `perspective_transform()`, in cell 18 in the IPython notebook, project4_code).  The `perspective_transform()` function takes as inputs an image (`image`), as well as source (`src`) and destination (`dst`) points.  I chose the hardcode the source and destination points in the following manner:\n",
    "\n",
    "```python\n",
    "    src = np.float32([[540, 470],[750, 470],[1130, 690],[200, 690]])\n",
    "    dst = np.float32([[200, 0],[1080, 0],[1080, 720],[200, 720]])\n",
    "```\n",
    "\n",
    "This resulted in the following source and destination points:\n",
    "\n",
    "| Source        | Destination   | \n",
    "|:-------------:|:-------------:| \n",
    "| 540, 470      | 200, 0        | \n",
    "| 750, 470      | 1080, 720      |\n",
    "| 1130, 690     | 1080, 720      |\n",
    "| 200, 690      | 200, 720       |\n",
    "\n",
    "I verified that my perspective transform was working as expected by drawing the `src` and `dst` points onto a test image and its warped counterpart to verify that the lines appear parallel in the warped image.\n",
    "\n",
    "\n",
    "I have 2 cases to show: \n",
    "\n",
    "### striaghtline1.jpg  \n",
    "<img src=\"output_images/warp_straight_line1.png\"> \n",
    "\n",
    "### test3.jpg\n",
    "<img src=\"output_images/warp_test3.png\"> \n",
    "\n",
    "\n",
    "\n",
    "\n"
   ]
  },
  {
   "cell_type": "markdown",
   "metadata": {},
   "source": [
    "#### 4. Describe how (and identify where in your code) you identified lane-line pixels and fit their positions with a polynomial?\n",
    "\n",
    "Then I did some other stuff and fit my lane lines with a 2nd order polynomial kinda like this: \n",
    "\n",
    "### test3.jpg\n",
    "\n",
    "<img src=\"output_images/test3_find_lines.png\">   \n",
    "\n",
    "\n",
    " \n",
    "\n",
    "\n"
   ]
  },
  {
   "cell_type": "markdown",
   "metadata": {},
   "source": [
    "#### 5. Describe how (and identify where in your code) you calculated the radius of curvature of the lane and the position of the vehicle with respect to center.\n",
    "\n",
    "I did this in cell [38] and [39] in my code in `project4_code`. Using The Radius of Curvature, \n",
    "the radius of curvature of the curve at a particular point is defined as the radius of the approximating circle. This radius changes as we move along the curve.\n",
    "\n",
    "<img src=\"output_images/rc.png\">   \n"
   ]
  },
  {
   "cell_type": "markdown",
   "metadata": {},
   "source": [
    "#### 6. Provide an example image of your result plotted back down onto the road such that the lane area is identified clearly.\n",
    "\n",
    "I implemented this step in cell 39 in my code in `project4_code`.  Here is an example of my result on a test image (test3.jpg):\n",
    "\n",
    "\n",
    "<img src=\"output_images/test3_lane_detection.png\">  "
   ]
  },
  {
   "cell_type": "markdown",
   "metadata": {},
   "source": [
    "### Pipeline (video)\n",
    "\n",
    "#### 1. Provide a link to your final video output.  Your pipeline should perform reasonably well on the entire project video (wobbly lines are ok but no catastrophic failures that would cause the car to drive off the road!).\n",
    "\n",
    "\n",
    "https://www.youtube.com/watch?v=tHh2ArKN6WI&feature=youtu.be\n",
    "\n",
    "\n"
   ]
  },
  {
   "cell_type": "markdown",
   "metadata": {},
   "source": [
    "### Discussion\n",
    "\n",
    "#### 1. Briefly discuss any problems / issues you faced in your implementation of this project.  Where will your pipeline likely fail?  What could you do to make it more robust?\n",
    "\n",
    "\n"
   ]
  },
  {
   "cell_type": "markdown",
   "metadata": {},
   "source": [
    "#### Third try submission \n",
    "\n",
    "You can find my test on filters at test_on_filters.ipynb. I trid to reduce the shadow problem. \n",
    "\n",
    "\n",
    "<img src=\"output_images/test4_output_shadow.png\">  \n",
    "\n",
    "\n",
    "The code is at project4_code, it gives the output as \n",
    "\n",
    "https://www.youtube.com/watch?v=Os8jp5qLrXM \n",
    "\n",
    "I have also changed the y_eval for calculating the radious of curvature as \n",
    "\n",
    "\n",
    "# y_eval = np.max(ploty)\n",
    "    \n",
    "    # modify y_eval\n",
    "    y_eval = np.max(ploty)\n",
    "    y_eval = y_eval*ym_per_pix\n",
    "\n",
    "\n",
    "\n"
   ]
  },
  {
   "cell_type": "markdown",
   "metadata": {},
   "source": [
    "### Conclusion \n",
    "\n",
    "The problem of the lane detection is still there even if the number of them is less than before. This is really difficult for the real situation to get a perfect video. "
   ]
  },
  {
   "cell_type": "code",
   "execution_count": null,
   "metadata": {},
   "outputs": [],
   "source": []
  }
 ],
 "metadata": {
  "kernelspec": {
   "display_name": "Python 3",
   "language": "python",
   "name": "python3"
  },
  "language_info": {
   "codemirror_mode": {
    "name": "ipython",
    "version": 3
   },
   "file_extension": ".py",
   "mimetype": "text/x-python",
   "name": "python",
   "nbconvert_exporter": "python",
   "pygments_lexer": "ipython3",
   "version": "3.5.4"
  }
 },
 "nbformat": 4,
 "nbformat_minor": 2
}
